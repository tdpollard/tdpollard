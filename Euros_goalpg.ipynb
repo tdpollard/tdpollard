{
 "cells": [
  {
   "cell_type": "code",
   "execution_count": 15,
   "metadata": {},
   "outputs": [
    {
     "name": "stdout",
     "output_type": "stream",
     "text": [
      "[2.26666667 2.13333333 2.06451613 2.74193548 2.48387097 2.48387097\n",
      " 2.4516129  2.11764706]\n",
      "[1.13333333 1.06666667 1.03225806 1.37096774 1.24193548 1.24193548\n",
      " 1.22580645 1.05882353]\n",
      "2.3429316888045544\n",
      "0.23566307916999932\n"
     ]
    }
   ],
   "source": [
    "import numpy\n",
    "import statistics\n",
    "\n",
    "#Former tornaments\n",
    "year = [1988, 1992, 1996, 2000, 2004, 2008, 2012, 2016];\n",
    "matches_played = [15, 15, 31, 31, 31, 31, 31, 51];\n",
    "goals = [34, 32, 64, 85, 77, 77, 76, 108];\n",
    "\n",
    "goals_per_game = numpy.divide(goals,matches_played);\n",
    "goals_per_team = goals_per_game/2;\n",
    "\n",
    "av_gpg = sum(goals_per_game)/len(goals_per_game);\n",
    "sd_gpg = statistics.stdev(goals_per_game);\n",
    "\n",
    "print(av_gpg)\n",
    "print(sd_gpg)"
   ]
  },
  {
   "cell_type": "code",
   "execution_count": 16,
   "metadata": {},
   "outputs": [
    {
     "name": "stdout",
     "output_type": "stream",
     "text": [
      "1.1714658444022772\n"
     ]
    }
   ],
   "source": [
    "print(av_gpg/2)"
   ]
  },
  {
   "cell_type": "code",
   "execution_count": null,
   "metadata": {},
   "outputs": [],
   "source": []
  }
 ],
 "metadata": {
  "kernelspec": {
   "display_name": "Python 3 (ipykernel)",
   "language": "python",
   "name": "python3"
  },
  "language_info": {
   "codemirror_mode": {
    "name": "ipython",
    "version": 3
   },
   "file_extension": ".py",
   "mimetype": "text/x-python",
   "name": "python",
   "nbconvert_exporter": "python",
   "pygments_lexer": "ipython3",
   "version": "3.9.7"
  }
 },
 "nbformat": 4,
 "nbformat_minor": 4
}
