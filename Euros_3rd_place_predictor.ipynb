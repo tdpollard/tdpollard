{
 "cells": [
  {
   "cell_type": "code",
   "execution_count": 97,
   "metadata": {},
   "outputs": [],
   "source": [
    "#Moroney(1951) showed that goals per game is well described by a Poisson distribution\n",
    "#As such, we will use a Poisson distribution here\n",
    "#From previous touraments, the av goals per game is 2.34, or 1.17 goals per team per match\n",
    "\n",
    "import numpy as np\n",
    "import pandas as pd\n",
    "\n",
    "#Function for subtracting one array from another\n",
    "def subtract(L1,L2):\n",
    "    return [x1-x2 for x1,x2 in zip(L1,L2)]\n",
    "\n",
    "#Creating a function to create a random game\n",
    "#Input is goals per game per team, output is the random score\n",
    "def game_predictor(goalspgpt):\n",
    "    score = np.random.poisson(goalspgpt,2);\n",
    "    return score\n",
    "\n",
    "#Function for assigning the result of a match\n",
    "#Input is the score, output is result_output\n",
    "#result_output = [home_points, away_points]\n",
    "def result_assigner(score):\n",
    "    result_output = [0,0];\n",
    "    \n",
    "    #If statements for home win, draw and away win\n",
    "    if score[0] > score[1]: #home win\n",
    "        result_output[0] = 3; \n",
    "    elif score[0] == score[1]: #draw\n",
    "        result_output[0] = 1; result_output[1] = 1;\n",
    "    elif score[0] < score[1]:#away win\n",
    "        result_output[1] = 3;\n",
    "        \n",
    "    return result_output   \n",
    "\n",
    "\n",
    "#Function for predicting the outcome of the group\n",
    "# Input is goals per game per team, output is\n",
    "def group_predictor(goalspgpt, team_points_positions, agnst_goals_positions):\n",
    "    game_results = np.array([game_predictor(goalspgpt) for i in range(6)]);\n",
    "    points_array = np.array([result_assigner(game_results[i]) for i in range(6)]);\n",
    "         \n",
    "    full_points_array = [sum(points_array[tuple(team_points_positions[i])]) for i in range(4)];\n",
    "    goals_for = [sum(game_results[tuple(team_points_positions[i])]) for i in range(4)];\n",
    "    goals_against = [sum(game_results[tuple(agnst_goals_positions[i])]) for i in range(4)];\n",
    "    goal_diff = subtract(goals_for,goals_against);\n",
    "\n",
    "    return full_points_array, goals_for, goals_against, goal_diff\n",
    "\n",
    "#Function for putting the results into a group table\n",
    "def group_table(fpa,gf,ga,gd):\n",
    "    final_group_table = np.transpose([\n",
    "        fpa,\n",
    "        gf,\n",
    "        ga,\n",
    "        gd\n",
    "    ]); #Making an nd-array of the data\n",
    "    \n",
    "    final_group_df = pd.DataFrame(final_group_table,\n",
    "                                 columns = ['Points',\n",
    "                                            'Goals_For',\n",
    "                                            'Goals_Against',\n",
    "                                            'Goal_Difference']);\n",
    "    \n",
    "    return final_group_df\n",
    "\n",
    "\n",
    "#Function for obtaining the 3rd place team results\n",
    "def third_place_team(fpa,gf,ga,gd):\n",
    "    \n",
    "    final_group_df = group_table(fpa,gf,ga,gd) # Import the group table\n",
    "    #Sort the group table by points, then goal difference, then goals for, and then taking the 3rd best team for this\n",
    "    third_place = final_group_df.sort_values(['Points', 'Goal_Difference', 'Goals_For']).iloc[1];\n",
    "        \n",
    "    return third_place\n",
    "    \n",
    "    \n",
    "#Function for simulating the third place team out of 6 groups, and finding the 4th best of those teams\n",
    "def third_place_tournament(goals_pg_pt, team_points_positions, agnst_goals_positions):\n",
    "    \n",
    "    #Creating a data frame for the 3rd best teams\n",
    "    tournament_3rd_place_df = pd.DataFrame(columns = ['Points',\n",
    "                                            'Goals_For',\n",
    "                                            'Goals_Against',\n",
    "                                            'Goal_Difference']);\n",
    "    \n",
    "    #Simulating 6 groups in a tourament\n",
    "    for i in range(6):\n",
    "        fpa, goals_for, goals_against, goal_diff = group_predictor(goals_pg_pt,team_points_positions,agnst_goals_positions);\n",
    "        tournament_3rd_place_df = tournament_3rd_place_df.append(third_place_team(fpa, goals_for, goals_against, goal_diff));\n",
    "   \n",
    "    #Finding the 4th best 3rd place team\n",
    "    fourth_best_3rd_place = tournament_3rd_place_df.sort_values(['Points', 'Goal_Difference', 'Goals_For']).iloc[2];\n",
    "\n",
    "    return fourth_best_3rd_place\n",
    "\n",
    "\n",
    "#Function for simulating the tourament many times, and obtaining the 4th place teams info\n",
    "def multi_tournament_simulator(goals_pg_pt, team_points_positions, agnst_goals_positions, n_repetitions):\n",
    "    \n",
    "    #Creating a dataframe of the 4th best teams\n",
    "    fourth_best_teams_df = pd.DataFrame(columns = ['Points',\n",
    "                                            'Goals_For',\n",
    "                                            'Goals_Against',\n",
    "                                            'Goal_Difference']);\n",
    "    for i in range(n_repetitions):\n",
    "        fourth_best_teams_df = fourth_best_teams_df.append(third_place_tourament(goals_pg_pt,team_points_positions,agnst_goals_positions));\n",
    "    \n",
    "    return fourth_best_teams_df\n",
    "    \n",
    "    \n",
    "#Variables used for coding  \n",
    "goals_pg_pt = 1.1714658444022772; #Goals per game per team\n",
    "team_points_positions = [[[0,1,2],[0,0,0]],\n",
    "                         [[0,3,4],[1,0,0]],\n",
    "                         [[1,3,5],[1,1,0]],\n",
    "                         [[2,4,5],[1,1,1]]]; #array to assign the different teams the points\n",
    "\n",
    "agnst_goals_positions = [[[0,1,2],[1,1,1]],\n",
    "                         [[0,3,4],[0,1,1]],\n",
    "                         [[1,3,5],[0,0,1]],\n",
    "                         [[2,4,5],[0,0,0]]]; #array for the goals against positions\n",
    "\n",
    "#Games are; A-B, A-C, A-D, B-C, B-D, C-D\n",
    "\n"
   ]
  },
  {
   "cell_type": "code",
   "execution_count": 96,
   "metadata": {},
   "outputs": [
    {
     "data": {
      "text/plain": [
       "Points              3\n",
       "Goals_For           3\n",
       "Goals_Against       5\n",
       "Goal_Difference    -2\n",
       "Name: 0, dtype: object"
      ]
     },
     "execution_count": 96,
     "metadata": {},
     "output_type": "execute_result"
    }
   ],
   "source": [
    "third_place_tourament(goals_pg_pt,team_points_positions,agnst_goals_positions)"
   ]
  },
  {
   "cell_type": "code",
   "execution_count": 163,
   "metadata": {},
   "outputs": [
    {
     "data": {
      "text/plain": [
       "499.0"
      ]
     },
     "execution_count": 163,
     "metadata": {},
     "output_type": "execute_result"
    }
   ],
   "source": [
    "#Running the code 1000 times, and obtaining the data\n",
    "n_reps = 1000\n",
    "\n",
    "fourth_best_teams_df = multi_tournament_simulator(goals_pg_pt, team_points_positions, agnst_goals_positions, n_reps);\n",
    "\n",
    "fourth_best_teams_df = fourth_best_teams_df.astype(str).astype(int)"
   ]
  },
  {
   "cell_type": "code",
   "execution_count": 172,
   "metadata": {},
   "outputs": [
    {
     "name": "stdout",
     "output_type": "stream",
     "text": [
      "The median of the 4th best teams is;\n",
      "Points             3\n",
      "Goals_For          5\n",
      "Goals_Against      6\n",
      "Goal_Difference   -1\n",
      "Name: 2, dtype: int32\n"
     ]
    },
    {
     "data": {
      "image/png": "[encoded data removed]",
      "text/plain": [
       "<Figure size 576x432 with 4 Axes>"
      ]
     },
     "metadata": {
      "needs_background": "light"
     },
     "output_type": "display_data"
    }
   ],
   "source": [
    "#Data analysis\n",
    "from matplotlib.pyplot import subplots\n",
    "\n",
    "median_4th_best_team = fourth_best_teams_df.sort_values(['Points', 'Goal_Difference', 'Goals_For']).iloc[int((n_reps/2) - 1)];\n",
    "\n",
    "print('The median of the 4th best teams is;\\n', median_4th_best_team,sep = '');\n",
    "\n",
    "#Creating the subplots\n",
    "fig, ax = subplots(ncols = 2, nrows = 2, figsize = (8,6));\n",
    "\n",
    "#Plot 1 - histogram of the number of points\n",
    "ax[0,0].hist(fourth_best_teams_df['Points'], bins = [1,2,3,4,5,6]);\n",
    "ax[0,0].set(xlabel='Points', ylabel='Count');\n",
    "ax[0,0].set(title = 'Histogram of the Number of Points\\n of the 4th-Best 3rd-Placed Team');\n",
    "\n",
    "#Plot 2, histogram of the goal difference for 3 points\n",
    "ax[0,1].hist(fourth_best_teams_df[fourth_best_teams_df['Points'] == 3]['Goal_Difference'],\n",
    "            bins = [-6,-5,-4,-3,-2,-1,0,1,2,3,4]);\n",
    "ax[0,1].set(xlabel ='Goal Difference, with 3 points');\n",
    "ax[0,1].set(title = 'Histogram of Goal Difference\\n from Teams with 3 Points');\n",
    "\n",
    "#Plot 3, boxplot of the goal difference for 3 points\n",
    "ax[1,0].boxplot(fourth_best_teams_df[fourth_best_teams_df['Points'] == 3]['Goal_Difference']);\n",
    "ax[1,0].set(ylabel ='Goal Difference, with 3 points');\n",
    "ax[1,0].set(title = 'Boxplot of Goal Difference\\n from Teams with 3 Points');\n",
    "\n",
    "#Plot 4, the histograms for goal difference with 2 and 4 points\n",
    "#ax[1,1].hist(fourth_best_teams_df[fourth_best_teams_df['Points'] == 2]['Goal_Difference']);\n",
    "ax[1,1].hist(fourth_best_teams_df[fourth_best_teams_df['Points'] == 4]['Goal_Difference'],\n",
    "            bins = [-6,-5,-4,-3,-2,-1,0,1,2,3,4]);\n",
    "ax[1,1].set(xlabel ='Goal Difference, with 4 points');\n",
    "ax[1,1].set(title = 'Histogram of Goal Difference\\n from Teams with 4 Points');\n",
    "\n",
    "fig.tight_layout()\n",
    "\n",
    "#fourth_best_teams_df[fourth_best_teams_df['Points'] == 3]['Goal_Difference'].describe()"
   ]
  }
 ],
 "metadata": {
  "kernelspec": {
   "display_name": "Python 3 (ipykernel)",
   "language": "python",
   "name": "python3"
  },
  "language_info": {
   "codemirror_mode": {
    "name": "ipython",
    "version": 3
   },
   "file_extension": ".py",
   "mimetype": "text/x-python",
   "name": "python",
   "nbconvert_exporter": "python",
   "pygments_lexer": "ipython3",
   "version": "3.9.7"
  }
 },
 "nbformat": 4,
 "nbformat_minor": 4
}
