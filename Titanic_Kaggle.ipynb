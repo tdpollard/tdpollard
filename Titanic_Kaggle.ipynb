{
 "cells": [
  {
   "cell_type": "markdown",
   "id": "d92a0b57-8f73-412f-b74b-32e87e68f167",
   "metadata": {},
   "source": [
    "# Script for kaggle titanic competition"
   ]
  },
  {
   "cell_type": "markdown",
   "id": "55a13513-dc7e-4dad-a3f9-cb42e76590ad",
   "metadata": {
    "tags": []
   },
   "source": [
    "## Functions"
   ]
  },
  {
   "cell_type": "code",
   "execution_count": 1,
   "id": "9d919d22-d561-48fb-b9b4-2de33f03415e",
   "metadata": {},
   "outputs": [],
   "source": [
    "##Rescaling Function\n",
    "def rescale_function(scaling_fn, data_frame, variable):\n",
    "    '''Function for rescaling a dataframe variable\n",
    "\n",
    "    The scaling function should be fitted before use\n",
    "    '''\n",
    "    data_frame_copy = data_frame.copy()\n",
    "\n",
    "    data_frame_var_scaled = scaling_fn.transform(data_frame[variable].values.reshape(-1,1))\n",
    "    data_frame_copy[variable] = data_frame_var_scaled\n",
    "\n",
    "    return data_frame_copy"
   ]
  },
  {
   "cell_type": "markdown",
   "id": "0e5bb8ec-f07e-4b93-95ef-8badcb0604b3",
   "metadata": {},
   "source": [
    "## Main Script"
   ]
  },
  {
   "cell_type": "code",
   "execution_count": 2,
   "id": "9a878621-86dd-43da-8c70-b9d870665ad8",
   "metadata": {},
   "outputs": [],
   "source": [
    "import pandas as pd\n",
    "from matplotlib import pyplot as plt\n",
    "from sklearn.model_selection import train_test_split\n",
    "from numpy import array as nparr\n",
    "from numpy import zeros\n",
    "from scipy.stats import chi2_contingency\n",
    "from numpy import savetxt as npsavetxt\n",
    "from numpy import where as npwhere\n",
    "from numpy import empty as npempty\n",
    "from numpy import argmax as npargmax\n",
    "import csv\n",
    "import ast"
   ]
  },
  {
   "cell_type": "code",
   "execution_count": 3,
   "id": "131ef396-451f-4c13-97de-a0cfd2260e66",
   "metadata": {},
   "outputs": [],
   "source": [
    "RANDOM_STATE = 10203"
   ]
  },
  {
   "cell_type": "markdown",
   "id": "1a8a9e34-06a9-4dad-bd70-00ef461eacf7",
   "metadata": {
    "tags": []
   },
   "source": [
    "## Sorting out the dataframe"
   ]
  },
  {
   "cell_type": "code",
   "execution_count": 4,
   "id": "1616e021-aca4-4715-81fc-9251fe6f838a",
   "metadata": {},
   "outputs": [
    {
     "data": {
      "text/html": [
       "<div>\n",
       "<style scoped>\n",
       "    .dataframe tbody tr th:only-of-type {\n",
       "        vertical-align: middle;\n",
       "    }\n",
       "\n",
       "    .dataframe tbody tr th {\n",
       "        vertical-align: top;\n",
       "    }\n",
       "\n",
       "    .dataframe thead th {\n",
       "        text-align: right;\n",
       "    }\n",
       "</style>\n",
       "<table border=\"1\" class=\"dataframe\">\n",
       "  <thead>\n",
       "    <tr style=\"text-align: right;\">\n",
       "      <th></th>\n",
       "      <th>Survived</th>\n",
       "      <th>Pclass</th>\n",
       "      <th>Name</th>\n",
       "      <th>Sex</th>\n",
       "      <th>Age</th>\n",
       "      <th>SibSp</th>\n",
       "      <th>Parch</th>\n",
       "      <th>Ticket</th>\n",
       "      <th>Fare</th>\n",
       "      <th>Cabin</th>\n",
       "      <th>Embarked</th>\n",
       "    </tr>\n",
       "    <tr>\n",
       "      <th>PassengerId</th>\n",
       "      <th></th>\n",
       "      <th></th>\n",
       "      <th></th>\n",
       "      <th></th>\n",
       "      <th></th>\n",
       "      <th></th>\n",
       "      <th></th>\n",
       "      <th></th>\n",
       "      <th></th>\n",
       "      <th></th>\n",
       "      <th></th>\n",
       "    </tr>\n",
       "  </thead>\n",
       "  <tbody>\n",
       "    <tr>\n",
       "      <th>1</th>\n",
       "      <td>0</td>\n",
       "      <td>3</td>\n",
       "      <td>Braund, Mr. Owen Harris</td>\n",
       "      <td>male</td>\n",
       "      <td>22.0</td>\n",
       "      <td>1</td>\n",
       "      <td>0</td>\n",
       "      <td>A/5 21171</td>\n",
       "      <td>7.2500</td>\n",
       "      <td>NaN</td>\n",
       "      <td>S</td>\n",
       "    </tr>\n",
       "    <tr>\n",
       "      <th>2</th>\n",
       "      <td>1</td>\n",
       "      <td>1</td>\n",
       "      <td>Cumings, Mrs. John Bradley (Florence Briggs Th...</td>\n",
       "      <td>female</td>\n",
       "      <td>38.0</td>\n",
       "      <td>1</td>\n",
       "      <td>0</td>\n",
       "      <td>PC 17599</td>\n",
       "      <td>71.2833</td>\n",
       "      <td>C85</td>\n",
       "      <td>C</td>\n",
       "    </tr>\n",
       "    <tr>\n",
       "      <th>3</th>\n",
       "      <td>1</td>\n",
       "      <td>3</td>\n",
       "      <td>Heikkinen, Miss. Laina</td>\n",
       "      <td>female</td>\n",
       "      <td>26.0</td>\n",
       "      <td>0</td>\n",
       "      <td>0</td>\n",
       "      <td>STON/O2. 3101282</td>\n",
       "      <td>7.9250</td>\n",
       "      <td>NaN</td>\n",
       "      <td>S</td>\n",
       "    </tr>\n",
       "    <tr>\n",
       "      <th>4</th>\n",
       "      <td>1</td>\n",
       "      <td>1</td>\n",
       "      <td>Futrelle, Mrs. Jacques Heath (Lily May Peel)</td>\n",
       "      <td>female</td>\n",
       "      <td>35.0</td>\n",
       "      <td>1</td>\n",
       "      <td>0</td>\n",
       "      <td>113803</td>\n",
       "      <td>53.1000</td>\n",
       "      <td>C123</td>\n",
       "      <td>S</td>\n",
       "    </tr>\n",
       "    <tr>\n",
       "      <th>5</th>\n",
       "      <td>0</td>\n",
       "      <td>3</td>\n",
       "      <td>Allen, Mr. William Henry</td>\n",
       "      <td>male</td>\n",
       "      <td>35.0</td>\n",
       "      <td>0</td>\n",
       "      <td>0</td>\n",
       "      <td>373450</td>\n",
       "      <td>8.0500</td>\n",
       "      <td>NaN</td>\n",
       "      <td>S</td>\n",
       "    </tr>\n",
       "  </tbody>\n",
       "</table>\n",
       "</div>"
      ],
      "text/plain": [
       "             Survived  Pclass  \\\n",
       "PassengerId                     \n",
       "1                   0       3   \n",
       "2                   1       1   \n",
       "3                   1       3   \n",
       "4                   1       1   \n",
       "5                   0       3   \n",
       "\n",
       "                                                          Name     Sex   Age  \\\n",
       "PassengerId                                                                    \n",
       "1                                      Braund, Mr. Owen Harris    male  22.0   \n",
       "2            Cumings, Mrs. John Bradley (Florence Briggs Th...  female  38.0   \n",
       "3                                       Heikkinen, Miss. Laina  female  26.0   \n",
       "4                 Futrelle, Mrs. Jacques Heath (Lily May Peel)  female  35.0   \n",
       "5                                     Allen, Mr. William Henry    male  35.0   \n",
       "\n",
       "             SibSp  Parch            Ticket     Fare Cabin Embarked  \n",
       "PassengerId                                                          \n",
       "1                1      0         A/5 21171   7.2500   NaN        S  \n",
       "2                1      0          PC 17599  71.2833   C85        C  \n",
       "3                0      0  STON/O2. 3101282   7.9250   NaN        S  \n",
       "4                1      0            113803  53.1000  C123        S  \n",
       "5                0      0            373450   8.0500   NaN        S  "
      ]
     },
     "execution_count": 4,
     "metadata": {},
     "output_type": "execute_result"
    }
   ],
   "source": [
    "#Reading in the raw data\n",
    "df = pd.read_csv('train.csv', index_col = 0)\n",
    "df.head()"
   ]
  },
  {
   "cell_type": "markdown",
   "id": "b981f8b2-e719-483b-8f51-3dab3905e44a",
   "metadata": {},
   "source": [
    "### Cleaning the data"
   ]
  },
  {
   "cell_type": "code",
   "execution_count": 5,
   "id": "2d6417d4-4b34-4cfa-8d80-b484e4e6394b",
   "metadata": {},
   "outputs": [
    {
     "data": {
      "text/plain": [
       "Survived      0\n",
       "Pclass        0\n",
       "Name          0\n",
       "Sex           0\n",
       "Age         177\n",
       "SibSp         0\n",
       "Parch         0\n",
       "Ticket        0\n",
       "Fare          0\n",
       "Cabin       687\n",
       "Embarked      2\n",
       "dtype: int64"
      ]
     },
     "execution_count": 5,
     "metadata": {},
     "output_type": "execute_result"
    }
   ],
   "source": [
    "#Counting the instances of missingness in each column\n",
    "df.isna().sum()"
   ]
  },
  {
   "cell_type": "code",
   "execution_count": 6,
   "id": "f61c5484-2ff8-4176-8ed2-49cfb3454138",
   "metadata": {},
   "outputs": [
    {
     "name": "stdout",
     "output_type": "stream",
     "text": [
      "Survived\n",
      "        Unique classes: 2\n",
      "        Data Type: int64\n",
      "Pclass\n",
      "        Unique classes: 3\n",
      "        Data Type: int64\n",
      "Name\n",
      "        Unique classes: 891\n",
      "        Data Type: object\n",
      "Sex\n",
      "        Unique classes: 2\n",
      "        Data Type: object\n",
      "Age\n",
      "        Unique classes: 89\n",
      "        Data Type: float64\n",
      "SibSp\n",
      "        Unique classes: 7\n",
      "        Data Type: int64\n",
      "Parch\n",
      "        Unique classes: 7\n",
      "        Data Type: int64\n",
      "Ticket\n",
      "        Unique classes: 681\n",
      "        Data Type: object\n",
      "Fare\n",
      "        Unique classes: 248\n",
      "        Data Type: float64\n",
      "Cabin\n",
      "        Unique classes: 148\n",
      "        Data Type: object\n",
      "Embarked\n",
      "        Unique classes: 4\n",
      "        Data Type: object\n"
     ]
    }
   ],
   "source": [
    "#Looking at the different column types\n",
    "for col in df.columns:\n",
    "    print(\n",
    "        '''{}\n",
    "        Unique classes: {}\n",
    "        Data Type: {}'''.format(\n",
    "            col,\n",
    "            len(df[col].unique()),\n",
    "            df[col].dtype\n",
    "        )\n",
    "    )\n",
    " "
   ]
  },
  {
   "cell_type": "markdown",
   "id": "209a0526-c168-4e30-950f-63179e441d3f",
   "metadata": {},
   "source": [
    "The following data can be removed, as there are too many instances for it to be useful;\n",
    "- Name\n",
    "- Ticket\n",
    "\n",
    "Cabin will also be removed because most of the data points do not have data on this, so interpolating values would not be helpful.\n",
    "\n",
    "The passengers without embarked data will also be dropped, because there are only 2 of them. The embarked and sex columns will then be one-hot encoded.\\\n",
    "\n",
    "There are enough passengers without age to warrent further investigation."
   ]
  },
  {
   "cell_type": "code",
   "execution_count": 7,
   "id": "2ebb3026-c955-4285-84f5-9eca7d27130d",
   "metadata": {},
   "outputs": [
    {
     "data": {
      "text/html": [
       "<div>\n",
       "<style scoped>\n",
       "    .dataframe tbody tr th:only-of-type {\n",
       "        vertical-align: middle;\n",
       "    }\n",
       "\n",
       "    .dataframe tbody tr th {\n",
       "        vertical-align: top;\n",
       "    }\n",
       "\n",
       "    .dataframe thead th {\n",
       "        text-align: right;\n",
       "    }\n",
       "</style>\n",
       "<table border=\"1\" class=\"dataframe\">\n",
       "  <thead>\n",
       "    <tr style=\"text-align: right;\">\n",
       "      <th></th>\n",
       "      <th>Survived</th>\n",
       "      <th>Pclass</th>\n",
       "      <th>Sex</th>\n",
       "      <th>Age</th>\n",
       "      <th>SibSp</th>\n",
       "      <th>Parch</th>\n",
       "      <th>Fare</th>\n",
       "      <th>Embarked1</th>\n",
       "      <th>Embarked2</th>\n",
       "    </tr>\n",
       "    <tr>\n",
       "      <th>PassengerId</th>\n",
       "      <th></th>\n",
       "      <th></th>\n",
       "      <th></th>\n",
       "      <th></th>\n",
       "      <th></th>\n",
       "      <th></th>\n",
       "      <th></th>\n",
       "      <th></th>\n",
       "      <th></th>\n",
       "    </tr>\n",
       "  </thead>\n",
       "  <tbody>\n",
       "    <tr>\n",
       "      <th>1</th>\n",
       "      <td>0</td>\n",
       "      <td>3</td>\n",
       "      <td>1</td>\n",
       "      <td>22.0</td>\n",
       "      <td>1</td>\n",
       "      <td>0</td>\n",
       "      <td>7.2500</td>\n",
       "      <td>0</td>\n",
       "      <td>0</td>\n",
       "    </tr>\n",
       "    <tr>\n",
       "      <th>2</th>\n",
       "      <td>1</td>\n",
       "      <td>1</td>\n",
       "      <td>0</td>\n",
       "      <td>38.0</td>\n",
       "      <td>1</td>\n",
       "      <td>0</td>\n",
       "      <td>71.2833</td>\n",
       "      <td>1</td>\n",
       "      <td>0</td>\n",
       "    </tr>\n",
       "    <tr>\n",
       "      <th>3</th>\n",
       "      <td>1</td>\n",
       "      <td>3</td>\n",
       "      <td>0</td>\n",
       "      <td>26.0</td>\n",
       "      <td>0</td>\n",
       "      <td>0</td>\n",
       "      <td>7.9250</td>\n",
       "      <td>0</td>\n",
       "      <td>0</td>\n",
       "    </tr>\n",
       "    <tr>\n",
       "      <th>4</th>\n",
       "      <td>1</td>\n",
       "      <td>1</td>\n",
       "      <td>0</td>\n",
       "      <td>35.0</td>\n",
       "      <td>1</td>\n",
       "      <td>0</td>\n",
       "      <td>53.1000</td>\n",
       "      <td>0</td>\n",
       "      <td>0</td>\n",
       "    </tr>\n",
       "    <tr>\n",
       "      <th>5</th>\n",
       "      <td>0</td>\n",
       "      <td>3</td>\n",
       "      <td>1</td>\n",
       "      <td>35.0</td>\n",
       "      <td>0</td>\n",
       "      <td>0</td>\n",
       "      <td>8.0500</td>\n",
       "      <td>0</td>\n",
       "      <td>0</td>\n",
       "    </tr>\n",
       "  </tbody>\n",
       "</table>\n",
       "</div>"
      ],
      "text/plain": [
       "             Survived  Pclass  Sex   Age  SibSp  Parch     Fare  Embarked1  \\\n",
       "PassengerId                                                                  \n",
       "1                   0       3    1  22.0      1      0   7.2500          0   \n",
       "2                   1       1    0  38.0      1      0  71.2833          1   \n",
       "3                   1       3    0  26.0      0      0   7.9250          0   \n",
       "4                   1       1    0  35.0      1      0  53.1000          0   \n",
       "5                   0       3    1  35.0      0      0   8.0500          0   \n",
       "\n",
       "             Embarked2  \n",
       "PassengerId             \n",
       "1                    0  \n",
       "2                    0  \n",
       "3                    0  \n",
       "4                    0  \n",
       "5                    0  "
      ]
     },
     "execution_count": 7,
     "metadata": {},
     "output_type": "execute_result"
    }
   ],
   "source": [
    "#Dropping Cabin\n",
    "df = df.drop(['Cabin', 'Name','Ticket'], axis = 1)\n",
    "\n",
    "# Removing Embarked NA values\n",
    "df = df[df.Embarked.notna()]\n",
    "\n",
    "#One-hot encoding Sex 1 = male, 0 = female\n",
    "df['Sex'] = pd.get_dummies(df['Sex'])['male']\n",
    "\n",
    "#Converting Embarked into 00 = S, 10 = C and 01 = Q\n",
    "df = pd.concat([df,pd.get_dummies(df['Embarked'])[['C','Q']]], axis = 1).drop('Embarked', axis = 1)\n",
    "df.rename(columns = {'C':'Embarked1','Q':'Embarked2'},inplace = True)\n",
    "\n",
    "#One-hot encoding Embarked\n",
    "\n",
    "df.head()"
   ]
  },
  {
   "cell_type": "code",
   "execution_count": 8,
   "id": "94d93578-0507-4bc0-bda5-6a049803130e",
   "metadata": {},
   "outputs": [
    {
     "data": {
      "image/png": "[encoded data removed]",
      "text/plain": [
       "<Figure size 432x288 with 1 Axes>"
      ]
     },
     "metadata": {
      "needs_background": "light"
     },
     "output_type": "display_data"
    }
   ],
   "source": [
    "# Looking at the spread of variables for w and w/o age information\n",
    "df_age = df[df.Age.notna()]\n",
    "df_age_na = df[df.Age.isna()]\n",
    "\n",
    "pos = nparr(range(len(df.columns)))\n",
    "\n",
    "# Plotting\n",
    "plt.boxplot(df_age, positions = pos);\n",
    "\n",
    "\n",
    "edge_color = 'blue'\n",
    "bp = plt.boxplot(df_age_na, positions = pos + 0.4);\n",
    "\n",
    "#Changing the colour, taken from StackOverflow Q477486\n",
    "for element in ['boxes', 'whiskers', 'fliers', 'means', 'medians', 'caps']:\n",
    "        plt.setp(bp[element], color=edge_color)"
   ]
  },
  {
   "cell_type": "code",
   "execution_count": 9,
   "id": "5c73b7e6-5422-417c-b8bd-7e43c3dff316",
   "metadata": {},
   "outputs": [
    {
     "name": "stdout",
     "output_type": "stream",
     "text": [
      "Age Data\n",
      "Survived = 0.404,\n",
      "Not Survived = 0.596\n",
      "\n",
      "\n",
      "No Age Data\n",
      "Survived = 0.294,\n",
      "NotSurvived = 0.706\n"
     ]
    }
   ],
   "source": [
    "#Looking specifically at the survival data, and the proportion in each class\n",
    "\n",
    "nparr(df_age.Survived == 1).sum()\n",
    "nparr(df_age.Survived == 0).sum()\n",
    "df_age.shape[0]\n",
    "\n",
    "print('''Age Data\\nSurvived = {:.3f},\\nNot Survived = {:.3f}\\n\\n\n",
    "No Age Data\\nSurvived = {:.3f},\\nNotSurvived = {:.3f}'''.format(\n",
    "    nparr(df_age.Survived == 1).sum()/df_age.shape[0],\n",
    "    nparr(df_age.Survived == 0).sum()/df_age.shape[0],\n",
    "    nparr(df_age_na.Survived == 1).sum()/df_age_na.shape[0],\n",
    "    nparr(df_age_na.Survived == 0).sum()/df_age_na.shape[0]\n",
    ")\n",
    "     )\n"
   ]
  },
  {
   "cell_type": "markdown",
   "id": "d60dfbab-68c7-47f5-9f13-4477118ab8f6",
   "metadata": {},
   "source": [
    "The survival data for age/no age is not clear, so a chi-squared test will be done to see if there is statistical significance."
   ]
  },
  {
   "cell_type": "code",
   "execution_count": 10,
   "id": "744f31e6-f466-4af1-8ddd-a83e74ad491d",
   "metadata": {},
   "outputs": [
    {
     "name": "stdout",
     "output_type": "stream",
     "text": [
      "[[288  52]\n",
      " [424 125]]\n",
      "Chi^2 Statistic: 6.895,\n",
      "p-value: 0.009\n"
     ]
    }
   ],
   "source": [
    "#Making the contingency table cols = Age Data, No Age Data, rows = survived, didn't survive\n",
    "contingency_table = nparr(\n",
    "    [[nparr(df_age.Survived == 1).sum(),nparr(df_age.Survived == 0).sum()],\n",
    "    [nparr(df_age_na.Survived == 1).sum(),nparr(df_age_na.Survived == 0).sum()]]).T\n",
    "\n",
    "print(contingency_table)\n",
    "\n",
    "chi2, p, _, _ = chi2_contingency(contingency_table)\n",
    "\n",
    "print('Chi^2 Statistic: {:.3f},\\np-value: {:.3f}'.format(\n",
    "    chi2, p))"
   ]
  },
  {
   "cell_type": "markdown",
   "id": "07ee5dd9-3259-4eca-b1ab-814241c85b31",
   "metadata": {},
   "source": [
    "So, there is a less than 1% chance that the data with and without age is from the same dataset, and thus 2 different statistical learning methods will need to be implemented, depending on if age is available or not."
   ]
  },
  {
   "cell_type": "code",
   "execution_count": 11,
   "id": "2dbe389f-06fc-4846-9a23-049be4b91c57",
   "metadata": {},
   "outputs": [],
   "source": [
    "#Extracting the survived as a separate column\n",
    "survived = df['Survived']\n",
    "\n",
    "#Removing survived and name of passengers from dataframe\n",
    "df = df.drop(['Survived'], axis = 1)\n"
   ]
  },
  {
   "cell_type": "code",
   "execution_count": 12,
   "id": "43ea6119-e698-4cb3-b731-b47e81c82c02",
   "metadata": {},
   "outputs": [],
   "source": [
    "#Splitting the Age/No Age\n",
    "df_age = df[df.Age.notna()]\n",
    "df_no_age = df[df.Age.isna()]\n",
    "\n",
    "survived_age = survived[df.Age.notna()]\n",
    "survived_no_age = survived[df.Age.isna()]\n",
    "\n",
    "df_no_age = df_no_age.drop('Age', axis = 1)"
   ]
  },
  {
   "cell_type": "code",
   "execution_count": 13,
   "id": "8e2ca618-978b-4e95-a037-346f59a77a73",
   "metadata": {},
   "outputs": [
    {
     "data": {
      "text/html": [
       "<div>\n",
       "<style scoped>\n",
       "    .dataframe tbody tr th:only-of-type {\n",
       "        vertical-align: middle;\n",
       "    }\n",
       "\n",
       "    .dataframe tbody tr th {\n",
       "        vertical-align: top;\n",
       "    }\n",
       "\n",
       "    .dataframe thead th {\n",
       "        text-align: right;\n",
       "    }\n",
       "</style>\n",
       "<table border=\"1\" class=\"dataframe\">\n",
       "  <thead>\n",
       "    <tr style=\"text-align: right;\">\n",
       "      <th></th>\n",
       "      <th>Pclass</th>\n",
       "      <th>Sex</th>\n",
       "      <th>Age</th>\n",
       "      <th>SibSp</th>\n",
       "      <th>Parch</th>\n",
       "      <th>Fare</th>\n",
       "      <th>Embarked1</th>\n",
       "      <th>Embarked2</th>\n",
       "    </tr>\n",
       "    <tr>\n",
       "      <th>PassengerId</th>\n",
       "      <th></th>\n",
       "      <th></th>\n",
       "      <th></th>\n",
       "      <th></th>\n",
       "      <th></th>\n",
       "      <th></th>\n",
       "      <th></th>\n",
       "      <th></th>\n",
       "    </tr>\n",
       "  </thead>\n",
       "  <tbody>\n",
       "    <tr>\n",
       "      <th>1</th>\n",
       "      <td>3</td>\n",
       "      <td>1</td>\n",
       "      <td>22.0</td>\n",
       "      <td>1</td>\n",
       "      <td>0</td>\n",
       "      <td>7.2500</td>\n",
       "      <td>0</td>\n",
       "      <td>0</td>\n",
       "    </tr>\n",
       "    <tr>\n",
       "      <th>2</th>\n",
       "      <td>1</td>\n",
       "      <td>0</td>\n",
       "      <td>38.0</td>\n",
       "      <td>1</td>\n",
       "      <td>0</td>\n",
       "      <td>71.2833</td>\n",
       "      <td>1</td>\n",
       "      <td>0</td>\n",
       "    </tr>\n",
       "    <tr>\n",
       "      <th>3</th>\n",
       "      <td>3</td>\n",
       "      <td>0</td>\n",
       "      <td>26.0</td>\n",
       "      <td>0</td>\n",
       "      <td>0</td>\n",
       "      <td>7.9250</td>\n",
       "      <td>0</td>\n",
       "      <td>0</td>\n",
       "    </tr>\n",
       "    <tr>\n",
       "      <th>4</th>\n",
       "      <td>1</td>\n",
       "      <td>0</td>\n",
       "      <td>35.0</td>\n",
       "      <td>1</td>\n",
       "      <td>0</td>\n",
       "      <td>53.1000</td>\n",
       "      <td>0</td>\n",
       "      <td>0</td>\n",
       "    </tr>\n",
       "    <tr>\n",
       "      <th>5</th>\n",
       "      <td>3</td>\n",
       "      <td>1</td>\n",
       "      <td>35.0</td>\n",
       "      <td>0</td>\n",
       "      <td>0</td>\n",
       "      <td>8.0500</td>\n",
       "      <td>0</td>\n",
       "      <td>0</td>\n",
       "    </tr>\n",
       "  </tbody>\n",
       "</table>\n",
       "</div>"
      ],
      "text/plain": [
       "             Pclass  Sex   Age  SibSp  Parch     Fare  Embarked1  Embarked2\n",
       "PassengerId                                                                \n",
       "1                 3    1  22.0      1      0   7.2500          0          0\n",
       "2                 1    0  38.0      1      0  71.2833          1          0\n",
       "3                 3    0  26.0      0      0   7.9250          0          0\n",
       "4                 1    0  35.0      1      0  53.1000          0          0\n",
       "5                 3    1  35.0      0      0   8.0500          0          0"
      ]
     },
     "execution_count": 13,
     "metadata": {},
     "output_type": "execute_result"
    }
   ],
   "source": [
    "df_age.head()"
   ]
  },
  {
   "cell_type": "code",
   "execution_count": 14,
   "id": "1768a14f-7f7f-4b2e-b22c-4b7586d75071",
   "metadata": {},
   "outputs": [
    {
     "data": {
      "text/html": [
       "<div>\n",
       "<style scoped>\n",
       "    .dataframe tbody tr th:only-of-type {\n",
       "        vertical-align: middle;\n",
       "    }\n",
       "\n",
       "    .dataframe tbody tr th {\n",
       "        vertical-align: top;\n",
       "    }\n",
       "\n",
       "    .dataframe thead th {\n",
       "        text-align: right;\n",
       "    }\n",
       "</style>\n",
       "<table border=\"1\" class=\"dataframe\">\n",
       "  <thead>\n",
       "    <tr style=\"text-align: right;\">\n",
       "      <th></th>\n",
       "      <th>Pclass</th>\n",
       "      <th>Sex</th>\n",
       "      <th>SibSp</th>\n",
       "      <th>Parch</th>\n",
       "      <th>Fare</th>\n",
       "      <th>Embarked1</th>\n",
       "      <th>Embarked2</th>\n",
       "    </tr>\n",
       "    <tr>\n",
       "      <th>PassengerId</th>\n",
       "      <th></th>\n",
       "      <th></th>\n",
       "      <th></th>\n",
       "      <th></th>\n",
       "      <th></th>\n",
       "      <th></th>\n",
       "      <th></th>\n",
       "    </tr>\n",
       "  </thead>\n",
       "  <tbody>\n",
       "    <tr>\n",
       "      <th>6</th>\n",
       "      <td>3</td>\n",
       "      <td>1</td>\n",
       "      <td>0</td>\n",
       "      <td>0</td>\n",
       "      <td>8.4583</td>\n",
       "      <td>0</td>\n",
       "      <td>1</td>\n",
       "    </tr>\n",
       "    <tr>\n",
       "      <th>18</th>\n",
       "      <td>2</td>\n",
       "      <td>1</td>\n",
       "      <td>0</td>\n",
       "      <td>0</td>\n",
       "      <td>13.0000</td>\n",
       "      <td>0</td>\n",
       "      <td>0</td>\n",
       "    </tr>\n",
       "    <tr>\n",
       "      <th>20</th>\n",
       "      <td>3</td>\n",
       "      <td>0</td>\n",
       "      <td>0</td>\n",
       "      <td>0</td>\n",
       "      <td>7.2250</td>\n",
       "      <td>1</td>\n",
       "      <td>0</td>\n",
       "    </tr>\n",
       "    <tr>\n",
       "      <th>27</th>\n",
       "      <td>3</td>\n",
       "      <td>1</td>\n",
       "      <td>0</td>\n",
       "      <td>0</td>\n",
       "      <td>7.2250</td>\n",
       "      <td>1</td>\n",
       "      <td>0</td>\n",
       "    </tr>\n",
       "    <tr>\n",
       "      <th>29</th>\n",
       "      <td>3</td>\n",
       "      <td>0</td>\n",
       "      <td>0</td>\n",
       "      <td>0</td>\n",
       "      <td>7.8792</td>\n",
       "      <td>0</td>\n",
       "      <td>1</td>\n",
       "    </tr>\n",
       "  </tbody>\n",
       "</table>\n",
       "</div>"
      ],
      "text/plain": [
       "             Pclass  Sex  SibSp  Parch     Fare  Embarked1  Embarked2\n",
       "PassengerId                                                          \n",
       "6                 3    1      0      0   8.4583          0          1\n",
       "18                2    1      0      0  13.0000          0          0\n",
       "20                3    0      0      0   7.2250          1          0\n",
       "27                3    1      0      0   7.2250          1          0\n",
       "29                3    0      0      0   7.8792          0          1"
      ]
     },
     "execution_count": 14,
     "metadata": {},
     "output_type": "execute_result"
    }
   ],
   "source": [
    "df_no_age.head()"
   ]
  },
  {
   "cell_type": "code",
   "execution_count": 15,
   "id": "c83bdcdc-feed-4a92-a923-85c1a0f21ae6",
   "metadata": {},
   "outputs": [],
   "source": [
    "#Splitting the data into test train\n",
    "\n",
    "#Age data\n",
    "X_age_train, X_age_test, y_age_train, y_age_test = train_test_split(\n",
    "    df_age, survived_age, test_size = 0.25, random_state = RANDOM_STATE)\n",
    "\n",
    "#No Age data (nage)\n",
    "X_nage_train, X_nage_test, y_nage_train, y_nage_test = train_test_split(\n",
    "    df_no_age, survived_no_age, test_size = 0.25, random_state = RANDOM_STATE)\n",
    "\n",
    "names = ['Age data','No Age data']"
   ]
  },
  {
   "cell_type": "markdown",
   "id": "d9a14edd-0e70-4cf3-a2dc-2f5eee1a7ff6",
   "metadata": {
    "tags": []
   },
   "source": [
    "## Analysing the data"
   ]
  },
  {
   "cell_type": "code",
   "execution_count": 16,
   "id": "87ca51db-df94-40fd-b290-3cee91f284d8",
   "metadata": {},
   "outputs": [
    {
     "data": {
      "image/png": "[encoded data removed]",
      "text/plain": [
       "<Figure size 576x576 with 2 Axes>"
      ]
     },
     "metadata": {
      "needs_background": "light"
     },
     "output_type": "display_data"
    },
    {
     "data": {
      "image/png": "[encoded data removed]",
      "text/plain": [
       "<Figure size 576x576 with 64 Axes>"
      ]
     },
     "metadata": {
      "needs_background": "light"
     },
     "output_type": "display_data"
    },
    {
     "data": {
      "image/png": "[encoded data removed]",
      "text/plain": [
       "<Figure size 576x576 with 2 Axes>"
      ]
     },
     "metadata": {
      "needs_background": "light"
     },
     "output_type": "display_data"
    },
    {
     "data": {
      "image/png": "[encoded data removed]",
      "text/plain": [
       "<Figure size 576x576 with 49 Axes>"
      ]
     },
     "metadata": {
      "needs_background": "light"
     },
     "output_type": "display_data"
    }
   ],
   "source": [
    "X_train = [X_age_train, X_nage_train]\n",
    "\n",
    "for X_train, name in zip([X_age_train, X_nage_train], names):\n",
    "    \n",
    "    #Plotting correlation matrix\n",
    "    f = plt.figure(figsize=(8, 8))\n",
    "    plt.matshow(X_train.corr(), fignum=f.number)\n",
    "    plt.xticks(range(X_train.select_dtypes(['number']).shape[1]), X_train.select_dtypes(['number']).columns, fontsize=14, rotation=45)\n",
    "    plt.yticks(range(X_train.select_dtypes(['number']).shape[1]), X_train.select_dtypes(['number']).columns, fontsize=14)\n",
    "    cb = plt.colorbar()\n",
    "    cb.ax.tick_params(labelsize=14)\n",
    "    plt.title('Correlation Matrix,\\n{}'.format(name), fontsize=16);\n",
    "    \n",
    "    #Plotting the scatter matrix\n",
    "    pd.plotting.scatter_matrix(X_train,\n",
    "                          figsize = (8,8)\n",
    "                          );"
   ]
  },
  {
   "cell_type": "markdown",
   "id": "92ad751f-d83f-4764-acd9-90605d5dc222",
   "metadata": {},
   "source": [
    "For both sets of data, it appears that none of the variables are highly correlated with one another.\n",
    "\n",
    "Very few of them seem to be normally distributed.\n",
    "\n",
    "The scale also needs to be addressed."
   ]
  },
  {
   "cell_type": "code",
   "execution_count": 17,
   "id": "458b002d-c9ce-4e51-8144-85375f249ad9",
   "metadata": {},
   "outputs": [
    {
     "data": {
      "image/png": "[encoded data removed]",
      "text/plain": [
       "<Figure size 432x288 with 1 Axes>"
      ]
     },
     "metadata": {
      "needs_background": "light"
     },
     "output_type": "display_data"
    },
    {
     "data": {
      "image/png": "[encoded data removed]",
      "text/plain": [
       "<Figure size 432x288 with 1 Axes>"
      ]
     },
     "metadata": {
      "needs_background": "light"
     },
     "output_type": "display_data"
    },
    {
     "data": {
      "text/plain": [
       "<Figure size 432x288 with 0 Axes>"
      ]
     },
     "metadata": {},
     "output_type": "display_data"
    }
   ],
   "source": [
    "for X_train, name in zip([X_age_train, X_nage_train], names):\n",
    "\n",
    "    plt.boxplot(X_train)\n",
    "    plt.title(name, fontsize = 16)\n",
    "    plt.figure()   \n"
   ]
  },
  {
   "cell_type": "markdown",
   "id": "147f4209-b9f0-4d19-b96c-631f1faf3bf3",
   "metadata": {},
   "source": [
    "For No Age data; fare will need to be rescaled\n",
    "\n",
    "For Age data; both age and fare need to be rescaled.\n",
    "\n",
    "Age will be rescaled with a minmax scaler, as it is fairly normally distributed and doesn't have too many outliers.\n",
    "Fare will be rescaled with a quantile transformer, to give a distribution between 0 and 1"
   ]
  },
  {
   "cell_type": "code",
   "execution_count": 18,
   "id": "2be437f2-5f9f-4bd0-9d06-1f52878ee167",
   "metadata": {},
   "outputs": [],
   "source": [
    "from sklearn.preprocessing import MinMaxScaler, QuantileTransformer"
   ]
  },
  {
   "cell_type": "code",
   "execution_count": 19,
   "id": "5b407144-0045-40de-b036-083d0792e433",
   "metadata": {},
   "outputs": [],
   "source": [
    "#Rescaling Age\n",
    "mmscaler = MinMaxScaler()\n",
    "mmscaler.fit(X_age_train['Age'].values.reshape(-1,1))\n",
    "\n",
    "X_age_train = rescale_function(scaling_fn = mmscaler,\n",
    "                               data_frame = X_age_train,\n",
    "                               variable = 'Age')\n",
    "X_age_test = rescale_function(scaling_fn = mmscaler,\n",
    "                              data_frame = X_age_test,\n",
    "                              variable = 'Age')"
   ]
  },
  {
   "cell_type": "code",
   "execution_count": 20,
   "id": "e4dc90cb-4404-4cf0-ae70-9f7842b0254c",
   "metadata": {},
   "outputs": [
    {
     "name": "stderr",
     "output_type": "stream",
     "text": [
      "C:\\Users\\ucnvtpo\\Anaconda3\\lib\\site-packages\\sklearn\\preprocessing\\_data.py:2612: UserWarning: n_quantiles (1000) is greater than the total number of samples (534). n_quantiles is set to n_samples.\n",
      "  warnings.warn(\"n_quantiles (%s) is greater than the total number \"\n",
      "C:\\Users\\ucnvtpo\\Anaconda3\\lib\\site-packages\\sklearn\\preprocessing\\_data.py:2612: UserWarning: n_quantiles (1000) is greater than the total number of samples (132). n_quantiles is set to n_samples.\n",
      "  warnings.warn(\"n_quantiles (%s) is greater than the total number \"\n"
     ]
    }
   ],
   "source": [
    "#Rescaling Fare\n",
    "qtscaler_age = QuantileTransformer()\n",
    "\n",
    "#Age data\n",
    "qtscaler_age.fit(X_age_train['Fare'].values.reshape(-1,1))\n",
    "X_age_train = rescale_function(scaling_fn = qtscaler_age,\n",
    "                               data_frame = X_age_train,\n",
    "                               variable = 'Fare')\n",
    "X_age_test = rescale_function(scaling_fn = qtscaler_age,\n",
    "                              data_frame = X_age_test,\n",
    "                              variable = 'Fare')\n",
    "\n",
    "qtscaler_nage = QuantileTransformer()\n",
    "\n",
    "#No Age Data\n",
    "qtscaler_nage.fit(X_nage_train['Fare'].values.reshape(-1,1))\n",
    "X_nage_train = rescale_function(scaling_fn = qtscaler_nage,\n",
    "                                data_frame = X_nage_train,\n",
    "                                variable = 'Fare')\n",
    "X_nage_test = rescale_function(scaling_fn = qtscaler_nage,\n",
    "                               data_frame = X_nage_test,\n",
    "                               variable = 'Fare')"
   ]
  },
  {
   "cell_type": "code",
   "execution_count": 21,
   "id": "d5c67ef1-fe63-4b9d-b8c5-f8c9741a85cf",
   "metadata": {},
   "outputs": [
    {
     "data": {
      "image/png": "[encoded data removed]",
      "text/plain": [
       "<Figure size 432x288 with 1 Axes>"
      ]
     },
     "metadata": {
      "needs_background": "light"
     },
     "output_type": "display_data"
    },
    {
     "data": {
      "image/png": "[encoded data removed]",
      "text/plain": [
       "<Figure size 432x288 with 1 Axes>"
      ]
     },
     "metadata": {
      "needs_background": "light"
     },
     "output_type": "display_data"
    },
    {
     "data": {
      "text/plain": [
       "<Figure size 432x288 with 0 Axes>"
      ]
     },
     "metadata": {},
     "output_type": "display_data"
    }
   ],
   "source": [
    "for X_train, name in zip([X_age_train, X_nage_train], names):\n",
    "\n",
    "    plt.boxplot(X_train)\n",
    "    plt.title(name, fontsize = 16)\n",
    "    plt.figure();  \n"
   ]
  },
  {
   "cell_type": "markdown",
   "id": "c7c5db05-7535-4996-9b42-df2d5e83f94d",
   "metadata": {},
   "source": [
    "Both sets of data now look much better scaled, and so should now be ready to "
   ]
  },
  {
   "cell_type": "markdown",
   "id": "aeecb87c-4810-4f88-b3dc-d2ce1dd09827",
   "metadata": {},
   "source": [
    "## Predictions\n",
    "\n",
    "Will use different statistical/machine learning techniques to predict the outcome of the passengers onboard the titanic.\n",
    "\n",
    "Methods used;\n",
    "- Logistic Regression\n",
    "    - Will perform a grid search over the C values (regularisation strength). For a data set like this, with only a small number of variables, this may not make too much difference\n",
    "- Support Vector Machines\n",
    "    - For SVM, will tune nu, kernel, degree, gamma\n",
    "- Random Forest\n",
    "    - For random forest, the hyperparameter tuning will be over the criterion, min_sample_split, min_samples_leaf\n",
    "- Nearest Neighours\n",
    "    - For NN, we will hyperparameter tune the number of neighbours\n",
    "\n",
    "We will iterate through the methods, with a hyperparameter search for each method done over the relavent variables."
   ]
  },
  {
   "cell_type": "code",
   "execution_count": 22,
   "id": "7fa72b4b-46e2-4952-ab65-245a85dd57f1",
   "metadata": {},
   "outputs": [],
   "source": [
    "from sklearn.linear_model import LogisticRegression\n",
    "from sklearn import svm\n",
    "from sklearn.ensemble import RandomForestClassifier\n",
    "from sklearn.neighbors import KNeighborsClassifier\n",
    "from sklearn.model_selection import RepeatedStratifiedKFold\n",
    "from sklearn.model_selection import GridSearchCV"
   ]
  },
  {
   "cell_type": "code",
   "execution_count": 23,
   "id": "5f7e50c7-16c4-4892-b17d-74860c73d6e7",
   "metadata": {},
   "outputs": [],
   "source": [
    "toggle_new_array = True"
   ]
  },
  {
   "cell_type": "code",
   "execution_count": 24,
   "id": "d8dca939-a9e9-4578-8a85-954929248f9d",
   "metadata": {},
   "outputs": [],
   "source": [
    "X_train = [X_age_train, X_nage_train]\n",
    "X_test = [X_age_test, X_nage_test]\n",
    "y_train = [y_age_train, y_nage_train]\n",
    "y_test = [y_age_test, y_nage_test]"
   ]
  },
  {
   "cell_type": "code",
   "execution_count": 48,
   "id": "0b39969a-c6a8-4599-9031-3043925fa3b2",
   "metadata": {},
   "outputs": [],
   "source": [
    "methods = ['Logistic Regression',\n",
    "#           'SVM',\n",
    "           'Random Forest',\n",
    "           'Nearest Neighbours'\n",
    "          ]\n",
    "\n",
    "if toggle_new_array:\n",
    "    test_accuracy = zeros([2,len(methods)])\n",
    "    best_grid_options = [[None for _ in range(len(methods))] for _ in range(2)]"
   ]
  },
  {
   "cell_type": "code",
   "execution_count": 49,
   "id": "6438e23d-f1c6-43c0-8863-f5c8e987edc5",
   "metadata": {},
   "outputs": [],
   "source": [
    "#Logistic Regression Parameters\n",
    "lr_clf = LogisticRegression(penalty = 'l2', random_state = RANDOM_STATE)\n",
    "\n",
    "c_values = [100, 10, 1.0, 0.1, 0.01]\n",
    "\n",
    "lr_grid = dict(C=c_values)"
   ]
  },
  {
   "cell_type": "code",
   "execution_count": 50,
   "id": "0a583133-3f80-45a7-8a6a-fe1588829d71",
   "metadata": {},
   "outputs": [],
   "source": [
    "#Support Vector Machines Parameters\n",
    "svm_clf = svm.NuSVC()\n",
    "\n",
    "nu_values = [0.1, 0.3, 0.5, 0.7, 0.9]\n",
    "kernel_options = ['linear', 'poly', 'rbf', 'sigmoid']\n",
    "degree_values = [2, 3, 4]\n",
    "gamma_options = ['scale', 'auto', 0.1, 1, 10]\n",
    "\n",
    "svm_grid = dict(nu = nu_values,\n",
    "           kernel = kernel_options,\n",
    "           degree = degree_values,\n",
    "           gamma = gamma_options)"
   ]
  },
  {
   "cell_type": "code",
   "execution_count": 51,
   "id": "ff2acae6-2e6d-428a-9199-3045f600d772",
   "metadata": {},
   "outputs": [],
   "source": [
    "#Random Forest Parameters\n",
    "rf_clf = RandomForestClassifier(random_state = RANDOM_STATE)\n",
    "\n",
    "criterion_options = ['gini', 'entropy']\n",
    "min_samples_split_values = [2, 3, 5, 10]\n",
    "min_samples_leaf_values = [1, 2, 3, 5]\n",
    "\n",
    "rf_grid = dict(criterion = criterion_options,\n",
    "           min_samples_split = min_samples_split_values,\n",
    "           min_samples_leaf = min_samples_leaf_values)"
   ]
  },
  {
   "cell_type": "code",
   "execution_count": 52,
   "id": "608c6903-9a69-4065-9a84-1028eb3012f8",
   "metadata": {},
   "outputs": [],
   "source": [
    "#Nearest Neighbours Parameters\n",
    "nn_clf =KNeighborsClassifier()\n",
    "\n",
    "neighbors = [2, 4, 5, 7, 10, 15]\n",
    "weights_options = ['uniform', 'distance']\n",
    "power = [1, 2, 3, 4, 5]\n",
    "\n",
    "nn_grid = dict(n_neighbors = neighbors,\n",
    "           weights = weights_options,\n",
    "           p = power)"
   ]
  },
  {
   "cell_type": "code",
   "execution_count": 53,
   "id": "347db6f9-c4b0-42bf-8d88-b56959e9793a",
   "metadata": {},
   "outputs": [],
   "source": [
    "#Creating a list of classifiers and grids\n",
    "classifiers = [lr_clf,\n",
    "#               svm_clf,\n",
    "               rf_clf,\n",
    "               nn_clf\n",
    "              ]\n",
    "\n",
    "grids = [lr_grid,\n",
    "#         svm_grid,\n",
    "         rf_grid,\n",
    "         nn_grid\n",
    "        ]"
   ]
  },
  {
   "cell_type": "code",
   "execution_count": 54,
   "id": "809997ba-ddb2-4357-a26c-299072cb5371",
   "metadata": {},
   "outputs": [],
   "source": [
    "toggle_run_classifier = True"
   ]
  },
  {
   "cell_type": "code",
   "execution_count": 55,
   "id": "15b86c8e-9370-4edc-9034-1fe494ebb80a",
   "metadata": {},
   "outputs": [
    {
     "name": "stdout",
     "output_type": "stream",
     "text": [
      "Logistic Regression\n",
      "Best accuracy = 0.79391, using {'C': 0.1}\n",
      "Test score = 0.79775\n",
      "Best accuracy = 0.82846, using {'C': 100}\n",
      "Test score = 0.91111\n",
      "\n",
      "\n",
      "\n",
      "Random Forest\n",
      "Best accuracy = 0.82689, using {'criterion': 'gini', 'min_samples_leaf': 2, 'min_samples_split': 10}\n",
      "Test score = 0.80899\n",
      "Best accuracy = 0.84571, using {'criterion': 'gini', 'min_samples_leaf': 1, 'min_samples_split': 3}\n",
      "Test score = 0.82222\n",
      "\n",
      "\n",
      "\n",
      "Nearest Neighbours\n",
      "Best accuracy = 0.80184, using {'n_neighbors': 10, 'p': 1, 'weights': 'uniform'}\n",
      "Test score = 0.79213\n",
      "Best accuracy = 0.85615, using {'n_neighbors': 4, 'p': 2, 'weights': 'distance'}\n",
      "Test score = 0.80000\n",
      "\n",
      "\n",
      "\n"
     ]
    }
   ],
   "source": [
    "#Iterating through the classifiers\n",
    "if toggle_run_classifier:\n",
    "    for j in range(len(methods)):\n",
    "        grid = grids[j]\n",
    "        clf = classifiers[j]\n",
    "        print(methods[j])\n",
    "\n",
    "        #Setting up the cross validation\n",
    "        cv = RepeatedStratifiedKFold(\n",
    "            n_splits = 10,\n",
    "            n_repeats = 5,\n",
    "            random_state = RANDOM_STATE)\n",
    "\n",
    "        #Setting up the grid search parameters\n",
    "        grid_search = GridSearchCV(\n",
    "            estimator = clf,\n",
    "            param_grid = grid,\n",
    "            n_jobs = -1,\n",
    "            cv = cv,\n",
    "            scoring = 'accuracy') #The Titanic dataset is scored based on accuracy  \n",
    "\n",
    "        #Iterating through the age/no age data\n",
    "        for i in range(2):\n",
    "            #Performing the grid search\n",
    "            grid_result = grid_search.fit(X_train[i],y_train[i])\n",
    "\n",
    "            #Outputting the best result from the train data\n",
    "            print('Best accuracy = {:.5f}, using {}'.format(\n",
    "                grid_result.best_score_, grid_result.best_params_)\n",
    "                 )\n",
    "\n",
    "            best_grid_options[i][j] = grid_result.best_params_#.values())\n",
    "\n",
    "            #Saving the score on the test data\n",
    "            test_accuracy[i,j] = grid_result.score(X_test[i],y_test[i])\n",
    "            print('Test score = {:.5f}'.format(\n",
    "                test_accuracy[i,j])\n",
    "                 )\n",
    "\n",
    "        print('\\n\\n')\n",
    "        \n",
    "    #Saving the test accuracy \n",
    "    npsavetxt('test_accuracy.csv', test_accuracy, delimiter = ',')\n",
    "\n",
    "    #Saving the best grid options    \n",
    "    \n",
    "    with open('grid_options.csv', 'w') as csvfile:\n",
    "        writer = csv.writer(csvfile)\n",
    "        writer.writerows(best_grid_options)\n",
    "\n",
    "    # loop over dictionary keys and values\n",
    "   # for key, val in best_grid_options.items():\n",
    "#\n",
    "        # write every key and value to file\n",
    "    #    w.writerow([key, val])"
   ]
  },
  {
   "cell_type": "markdown",
   "id": "a9c3b8bd-8106-4c25-a32b-6912a05d418b",
   "metadata": {},
   "source": [
    "Because this takes a while, the files are saved for later use."
   ]
  },
  {
   "cell_type": "code",
   "execution_count": 56,
   "id": "0464186b-7e31-44a6-a3b2-ecef6b10f1df",
   "metadata": {},
   "outputs": [
    {
     "data": {
      "text/plain": [
       "[[{'C': 0.1},\n",
       "  {'criterion': 'gini', 'min_samples_leaf': 2, 'min_samples_split': 10},\n",
       "  {'n_neighbors': 10, 'p': 1, 'weights': 'uniform'}],\n",
       " [{'C': 100},\n",
       "  {'criterion': 'gini', 'min_samples_leaf': 1, 'min_samples_split': 3},\n",
       "  {'n_neighbors': 4, 'p': 2, 'weights': 'distance'}]]"
      ]
     },
     "execution_count": 56,
     "metadata": {},
     "output_type": "execute_result"
    }
   ],
   "source": [
    "best_grid_options"
   ]
  },
  {
   "cell_type": "markdown",
   "id": "49313946-86e3-4300-9f3e-fd06b4a0462c",
   "metadata": {},
   "source": [
    "#### Reloading the results"
   ]
  },
  {
   "cell_type": "code",
   "execution_count": 57,
   "id": "417dd4c7-6677-4955-951d-93e076f99f25",
   "metadata": {},
   "outputs": [],
   "source": [
    "test_acc = pd.read_csv('test_accuracy.csv', header = None).to_numpy()\n",
    "\n",
    "grid_options = pd.read_csv('grid_options.csv', header = None).to_numpy()"
   ]
  },
  {
   "cell_type": "code",
   "execution_count": 58,
   "id": "1895cd45-5d81-45dc-97f3-821eeff1a7be",
   "metadata": {},
   "outputs": [
    {
     "name": "stdout",
     "output_type": "stream",
     "text": [
      "[[0.79775281 0.80898876 0.79213483]\n",
      " [0.91111111 0.82222222 0.8       ]]\n",
      "\n",
      "\n",
      "\n",
      "[[\"{'C': 0.1}\"\n",
      "  \"{'criterion': 'gini', 'min_samples_leaf': 2, 'min_samples_split': 10}\"\n",
      "  \"{'n_neighbors': 10, 'p': 1, 'weights': 'uniform'}\"]\n",
      " [\"{'C': 100}\"\n",
      "  \"{'criterion': 'gini', 'min_samples_leaf': 1, 'min_samples_split': 3}\"\n",
      "  \"{'n_neighbors': 4, 'p': 2, 'weights': 'distance'}\"]]\n"
     ]
    }
   ],
   "source": [
    "print(test_acc)\n",
    "print('\\n\\n')\n",
    "print(grid_options)"
   ]
  },
  {
   "cell_type": "markdown",
   "id": "b398654a-3755-4311-8aa2-18441ed2d2d6",
   "metadata": {},
   "source": [
    "#### Analysis\n",
    "In all cases, not including age data seems to give a better measure of prediction. Hence, we will try removing the age data from the larger dataset, and seing if the prediction accuracy increases. Will try this with both Logistic regression and Random Forest, the best predictors for no age and age respectively."
   ]
  },
  {
   "cell_type": "code",
   "execution_count": 59,
   "id": "8a30cdf2-c2e5-4f94-9182-5dc574531248",
   "metadata": {},
   "outputs": [],
   "source": [
    "#Removing age data from the age dataset\n",
    "age_filter = X_age_train.columns != 'Age'"
   ]
  },
  {
   "cell_type": "code",
   "execution_count": 60,
   "id": "55201ed3-77c1-46be-a52e-b6175c674e55",
   "metadata": {},
   "outputs": [],
   "source": [
    "X_a_train_new = X_age_train.loc[:,age_filter]\n",
    "X_a_test_new = X_age_test.loc[:,age_filter]"
   ]
  },
  {
   "cell_type": "code",
   "execution_count": null,
   "id": "9be3bc8e-4b3e-457d-87b6-76a143bfe79d",
   "metadata": {},
   "outputs": [],
   "source": []
  },
  {
   "cell_type": "code",
   "execution_count": 61,
   "id": "9a5aa19f-7a4b-4fbc-9675-6ef546fcf3ba",
   "metadata": {},
   "outputs": [
    {
     "name": "stdout",
     "output_type": "stream",
     "text": [
      "Logistic Regression\n",
      "Best accuracy = 0.79540, using {'C': 100}\n",
      "Test score = 0.78090\n",
      "\n",
      "\n",
      "\n",
      "Random Forest\n",
      "Best accuracy = 0.80404, using {'criterion': 'entropy', 'min_samples_leaf': 3, 'min_samples_split': 10}\n",
      "Test score = 0.77528\n",
      "\n",
      "\n",
      "\n",
      "Nearest Neighbours\n",
      "Best accuracy = 0.78604, using {'n_neighbors': 4, 'p': 1, 'weights': 'uniform'}\n",
      "Test score = 0.75281\n",
      "\n",
      "\n",
      "\n"
     ]
    }
   ],
   "source": [
    "#Iterating through the classifiers\n",
    "for j in [0,1,2]:\n",
    "    grid = grids[j]\n",
    "    clf = classifiers[j]\n",
    "    print(methods[j])\n",
    "\n",
    "    #Setting up the cross validation\n",
    "    cv = RepeatedStratifiedKFold(\n",
    "        n_splits = 10,\n",
    "        n_repeats = 5,\n",
    "        random_state = RANDOM_STATE)\n",
    "\n",
    "    #Setting up the grid search parameters\n",
    "    grid_search = GridSearchCV(\n",
    "        estimator = clf,\n",
    "        param_grid = grid,\n",
    "        n_jobs = -1,\n",
    "        cv = cv,\n",
    "        scoring = 'accuracy') #The Titanic dataset is scored based on accuracy  \n",
    "\n",
    "    #Performing the grid search\n",
    "    grid_result = grid_search.fit(X_a_train_new,y_age_train)\n",
    "\n",
    "    #Outputting the best result from the train data\n",
    "    print('Best accuracy = {:.5f}, using {}'.format(\n",
    "        grid_result.best_score_, grid_result.best_params_)\n",
    "         )\n",
    "\n",
    "    print('Test score = {:.5f}'.format(\n",
    "        grid_result.score(X_a_test_new,y_age_test))\n",
    "         )\n",
    "\n",
    "    print('\\n\\n')"
   ]
  },
  {
   "cell_type": "markdown",
   "id": "b6f22ab7-0cc9-46e7-b380-de0fff4c7dde",
   "metadata": {},
   "source": [
    "Comparing the results in both cases, it appears that using Age data is at least the same, or potentially slightly better than not including it. It may be the same because it is regularised out, or it may only provide modest improvements to the data.\n",
    "\n",
    "## Building a predictor for the Kaggle test data\n",
    "\n",
    "Will now build a model to predict the Kaggle test data"
   ]
  },
  {
   "cell_type": "code",
   "execution_count": 62,
   "id": "19f1111f-0c09-45ee-94ab-54a5fc0c7b3f",
   "metadata": {},
   "outputs": [],
   "source": [
    "kaggle_test_df = pd.read_csv('test.csv', index_col = 0)"
   ]
  },
  {
   "cell_type": "code",
   "execution_count": 63,
   "id": "00d240b9-53b8-4678-b48c-4ac153e186ab",
   "metadata": {},
   "outputs": [
    {
     "data": {
      "text/html": [
       "<div>\n",
       "<style scoped>\n",
       "    .dataframe tbody tr th:only-of-type {\n",
       "        vertical-align: middle;\n",
       "    }\n",
       "\n",
       "    .dataframe tbody tr th {\n",
       "        vertical-align: top;\n",
       "    }\n",
       "\n",
       "    .dataframe thead th {\n",
       "        text-align: right;\n",
       "    }\n",
       "</style>\n",
       "<table border=\"1\" class=\"dataframe\">\n",
       "  <thead>\n",
       "    <tr style=\"text-align: right;\">\n",
       "      <th></th>\n",
       "      <th>Pclass</th>\n",
       "      <th>Name</th>\n",
       "      <th>Sex</th>\n",
       "      <th>Age</th>\n",
       "      <th>SibSp</th>\n",
       "      <th>Parch</th>\n",
       "      <th>Ticket</th>\n",
       "      <th>Fare</th>\n",
       "      <th>Cabin</th>\n",
       "      <th>Embarked</th>\n",
       "    </tr>\n",
       "    <tr>\n",
       "      <th>PassengerId</th>\n",
       "      <th></th>\n",
       "      <th></th>\n",
       "      <th></th>\n",
       "      <th></th>\n",
       "      <th></th>\n",
       "      <th></th>\n",
       "      <th></th>\n",
       "      <th></th>\n",
       "      <th></th>\n",
       "      <th></th>\n",
       "    </tr>\n",
       "  </thead>\n",
       "  <tbody>\n",
       "    <tr>\n",
       "      <th>892</th>\n",
       "      <td>3</td>\n",
       "      <td>Kelly, Mr. James</td>\n",
       "      <td>male</td>\n",
       "      <td>34.5</td>\n",
       "      <td>0</td>\n",
       "      <td>0</td>\n",
       "      <td>330911</td>\n",
       "      <td>7.8292</td>\n",
       "      <td>NaN</td>\n",
       "      <td>Q</td>\n",
       "    </tr>\n",
       "    <tr>\n",
       "      <th>893</th>\n",
       "      <td>3</td>\n",
       "      <td>Wilkes, Mrs. James (Ellen Needs)</td>\n",
       "      <td>female</td>\n",
       "      <td>47.0</td>\n",
       "      <td>1</td>\n",
       "      <td>0</td>\n",
       "      <td>363272</td>\n",
       "      <td>7.0000</td>\n",
       "      <td>NaN</td>\n",
       "      <td>S</td>\n",
       "    </tr>\n",
       "    <tr>\n",
       "      <th>894</th>\n",
       "      <td>2</td>\n",
       "      <td>Myles, Mr. Thomas Francis</td>\n",
       "      <td>male</td>\n",
       "      <td>62.0</td>\n",
       "      <td>0</td>\n",
       "      <td>0</td>\n",
       "      <td>240276</td>\n",
       "      <td>9.6875</td>\n",
       "      <td>NaN</td>\n",
       "      <td>Q</td>\n",
       "    </tr>\n",
       "    <tr>\n",
       "      <th>895</th>\n",
       "      <td>3</td>\n",
       "      <td>Wirz, Mr. Albert</td>\n",
       "      <td>male</td>\n",
       "      <td>27.0</td>\n",
       "      <td>0</td>\n",
       "      <td>0</td>\n",
       "      <td>315154</td>\n",
       "      <td>8.6625</td>\n",
       "      <td>NaN</td>\n",
       "      <td>S</td>\n",
       "    </tr>\n",
       "    <tr>\n",
       "      <th>896</th>\n",
       "      <td>3</td>\n",
       "      <td>Hirvonen, Mrs. Alexander (Helga E Lindqvist)</td>\n",
       "      <td>female</td>\n",
       "      <td>22.0</td>\n",
       "      <td>1</td>\n",
       "      <td>1</td>\n",
       "      <td>3101298</td>\n",
       "      <td>12.2875</td>\n",
       "      <td>NaN</td>\n",
       "      <td>S</td>\n",
       "    </tr>\n",
       "  </tbody>\n",
       "</table>\n",
       "</div>"
      ],
      "text/plain": [
       "             Pclass                                          Name     Sex  \\\n",
       "PassengerId                                                                 \n",
       "892               3                              Kelly, Mr. James    male   \n",
       "893               3              Wilkes, Mrs. James (Ellen Needs)  female   \n",
       "894               2                     Myles, Mr. Thomas Francis    male   \n",
       "895               3                              Wirz, Mr. Albert    male   \n",
       "896               3  Hirvonen, Mrs. Alexander (Helga E Lindqvist)  female   \n",
       "\n",
       "              Age  SibSp  Parch   Ticket     Fare Cabin Embarked  \n",
       "PassengerId                                                       \n",
       "892          34.5      0      0   330911   7.8292   NaN        Q  \n",
       "893          47.0      1      0   363272   7.0000   NaN        S  \n",
       "894          62.0      0      0   240276   9.6875   NaN        Q  \n",
       "895          27.0      0      0   315154   8.6625   NaN        S  \n",
       "896          22.0      1      1  3101298  12.2875   NaN        S  "
      ]
     },
     "execution_count": 63,
     "metadata": {},
     "output_type": "execute_result"
    }
   ],
   "source": [
    "kaggle_test_df.head()"
   ]
  },
  {
   "cell_type": "markdown",
   "id": "71d6d4a6-b1e6-4fd1-b48f-c2b1c4f66e7e",
   "metadata": {},
   "source": [
    "### Cleaning up the data; One Hot Encoding and Scaling"
   ]
  },
  {
   "cell_type": "code",
   "execution_count": 64,
   "id": "8ef4781d-face-4800-9b4b-6264b07b3b78",
   "metadata": {},
   "outputs": [],
   "source": [
    "#Removing unused columns\n",
    "kaggle_test_df = kaggle_test_df.drop(['Name','Ticket','Cabin'], axis = 1)"
   ]
  },
  {
   "cell_type": "code",
   "execution_count": 65,
   "id": "afbd6447-90a9-4d71-9fe2-0ca11dbeba75",
   "metadata": {},
   "outputs": [],
   "source": [
    "#One-hot encoding Sex 1 = male, 0 = female\n",
    "kaggle_test_df['Sex'] = pd.get_dummies(kaggle_test_df['Sex'])['male']\n",
    "\n",
    "#Converting Embarked into 00 = S, 10 = C and 01 = Q\n",
    "kaggle_test_df = pd.concat([kaggle_test_df,pd.get_dummies(kaggle_test_df['Embarked'])[['C','Q']]], axis = 1).drop('Embarked', axis = 1)\n",
    "kaggle_test_df.rename(columns = {'C':'Embarked1','Q':'Embarked2'},inplace = True)"
   ]
  },
  {
   "cell_type": "code",
   "execution_count": 66,
   "id": "b020b1ba-91be-4f55-b3b9-722ad1c9aaed",
   "metadata": {},
   "outputs": [
    {
     "data": {
      "text/plain": [
       "Pclass        0\n",
       "Sex           0\n",
       "Age          86\n",
       "SibSp         0\n",
       "Parch         0\n",
       "Fare          1\n",
       "Embarked1     0\n",
       "Embarked2     0\n",
       "dtype: int64"
      ]
     },
     "execution_count": 66,
     "metadata": {},
     "output_type": "execute_result"
    }
   ],
   "source": [
    "kaggle_test_df.isna().sum()"
   ]
  },
  {
   "cell_type": "markdown",
   "id": "36f6df4c-7ff6-4d9c-a0d5-7a375cf78345",
   "metadata": {},
   "source": [
    "Looking at the na data, there are some;\n",
    "- without age data (not an issue, as a predictor was built for passengers without age data)\n",
    "- one passenger without fare data; will need to be imputed (using K nearest neighbours)\n",
    "\n",
    "Since the imputation is only for one of 418 values, I won't spend much time on the imputer"
   ]
  },
  {
   "cell_type": "code",
   "execution_count": 67,
   "id": "42517852-140d-4676-9838-b93d2d3b2ab3",
   "metadata": {},
   "outputs": [
    {
     "data": {
      "text/html": [
       "<div>\n",
       "<style scoped>\n",
       "    .dataframe tbody tr th:only-of-type {\n",
       "        vertical-align: middle;\n",
       "    }\n",
       "\n",
       "    .dataframe tbody tr th {\n",
       "        vertical-align: top;\n",
       "    }\n",
       "\n",
       "    .dataframe thead th {\n",
       "        text-align: right;\n",
       "    }\n",
       "</style>\n",
       "<table border=\"1\" class=\"dataframe\">\n",
       "  <thead>\n",
       "    <tr style=\"text-align: right;\">\n",
       "      <th></th>\n",
       "      <th>Pclass</th>\n",
       "      <th>Sex</th>\n",
       "      <th>Age</th>\n",
       "      <th>SibSp</th>\n",
       "      <th>Parch</th>\n",
       "      <th>Fare</th>\n",
       "      <th>Embarked1</th>\n",
       "      <th>Embarked2</th>\n",
       "    </tr>\n",
       "    <tr>\n",
       "      <th>PassengerId</th>\n",
       "      <th></th>\n",
       "      <th></th>\n",
       "      <th></th>\n",
       "      <th></th>\n",
       "      <th></th>\n",
       "      <th></th>\n",
       "      <th></th>\n",
       "      <th></th>\n",
       "    </tr>\n",
       "  </thead>\n",
       "  <tbody>\n",
       "    <tr>\n",
       "      <th>1044</th>\n",
       "      <td>3</td>\n",
       "      <td>1</td>\n",
       "      <td>60.5</td>\n",
       "      <td>0</td>\n",
       "      <td>0</td>\n",
       "      <td>NaN</td>\n",
       "      <td>0</td>\n",
       "      <td>0</td>\n",
       "    </tr>\n",
       "  </tbody>\n",
       "</table>\n",
       "</div>"
      ],
      "text/plain": [
       "             Pclass  Sex   Age  SibSp  Parch  Fare  Embarked1  Embarked2\n",
       "PassengerId                                                             \n",
       "1044              3    1  60.5      0      0   NaN          0          0"
      ]
     },
     "execution_count": 67,
     "metadata": {},
     "output_type": "execute_result"
    }
   ],
   "source": [
    "kaggle_test_df[kaggle_test_df['Fare'].isna()]"
   ]
  },
  {
   "cell_type": "code",
   "execution_count": 68,
   "id": "3e799165-f932-449c-b65f-ad9a2c908b6e",
   "metadata": {},
   "outputs": [],
   "source": [
    "from sklearn.impute import KNNImputer"
   ]
  },
  {
   "cell_type": "code",
   "execution_count": 69,
   "id": "620f516b-076c-46dd-b885-eb11c7555c45",
   "metadata": {},
   "outputs": [],
   "source": [
    "#Imputing based on the whole training dataframe\n",
    "imputer = KNNImputer(n_neighbors = 10, weights = 'distance')\n",
    "imputer.fit(df)\n",
    "\n",
    "#Imputing the kaggle test value for fare = NA\n",
    "kaggle_test_df.iloc[npwhere(kaggle_test_df['Fare'].isna())[0]] = imputer.transform(kaggle_test_df[kaggle_test_df['Fare'].isna()])"
   ]
  },
  {
   "cell_type": "code",
   "execution_count": 70,
   "id": "39b090c1-8f0e-43d2-a730-fc90c9bcf2b4",
   "metadata": {},
   "outputs": [],
   "source": [
    "#Rescaling Age\n",
    "kaggle_test_df = rescale_function(scaling_fn = mmscaler,\n",
    "                               data_frame = kaggle_test_df,\n",
    "                               variable = 'Age')"
   ]
  },
  {
   "cell_type": "code",
   "execution_count": 71,
   "id": "6de4966e-19a6-49f5-9ca3-0e4228110f2c",
   "metadata": {},
   "outputs": [],
   "source": [
    "#Splitting into age/ no age data\n",
    "kaggle_test_df_age = kaggle_test_df[kaggle_test_df.Age.notna()]\n",
    "kaggle_test_df_nage = kaggle_test_df[kaggle_test_df.Age.isna()]\n",
    "\n",
    "#Dropping Age column from no age data\n",
    "kaggle_test_df_nage = kaggle_test_df_nage.drop('Age',axis = 1)"
   ]
  },
  {
   "cell_type": "code",
   "execution_count": 72,
   "id": "6659fe4b-29d2-4a78-b569-5c869929ff37",
   "metadata": {},
   "outputs": [],
   "source": [
    "#Rescaling Fare\n",
    "kaggle_test_df_age = rescale_function(scaling_fn = qtscaler_age,\n",
    "                               data_frame = kaggle_test_df_age,\n",
    "                               variable = 'Fare')\n",
    "\n",
    "kaggle_test_df_nage = rescale_function(scaling_fn = qtscaler_nage,\n",
    "                               data_frame = kaggle_test_df_nage,\n",
    "                               variable = 'Fare')"
   ]
  },
  {
   "cell_type": "code",
   "execution_count": 73,
   "id": "6f274c5c-3dbd-44bc-8bb9-fb22a9c055a2",
   "metadata": {},
   "outputs": [],
   "source": [
    "#Combining the dataframes in a list\n",
    "kaggle_test_combined = [kaggle_test_df_age, kaggle_test_df_nage]\n",
    "\n",
    "#Creating a prediction dataframe\n",
    "kaggle_test_pred_age = pd.DataFrame(index = kaggle_test_df_age.index)\n",
    "kaggle_test_pred_nage = pd.DataFrame(index = kaggle_test_df_nage.index)\n",
    "\n",
    "kaggle_test_pred_comb = [kaggle_test_pred_age, kaggle_test_pred_nage]"
   ]
  },
  {
   "cell_type": "markdown",
   "id": "8a6d7c59-2f78-41ba-b1b5-c3d7bda04340",
   "metadata": {},
   "source": [
    "### Prediction\n",
    "Now, will use the best predictions from the training data to measure the results in the test data. The best results from the training data are;"
   ]
  },
  {
   "cell_type": "code",
   "execution_count": 74,
   "id": "fccb657e-43c1-484f-9ec0-41b6e8ee9c9d",
   "metadata": {},
   "outputs": [],
   "source": [
    "#Getting the index of the best parameters\n",
    "best_idx = [npargmax(test_acc[0]), npargmax(test_acc[1])]"
   ]
  },
  {
   "cell_type": "code",
   "execution_count": 75,
   "id": "65ed0157-0433-4001-85fe-a89962d08bb6",
   "metadata": {},
   "outputs": [
    {
     "name": "stdout",
     "output_type": "stream",
     "text": [
      "Best Age Classifier: Random Forest with parameters; {'criterion': 'gini', 'min_samples_leaf': 2, 'min_samples_split': 10}\n",
      "\n",
      "Best No Age Classifier: Logistic Regression with parameters; {'C': 100}\n",
      "\n"
     ]
    }
   ],
   "source": [
    "#Outputting the best classifiers and parameters\n",
    "best_clf_txt = ['Best Age Classifier','Best No Age Classifier']\n",
    "\n",
    "for i in range(2):\n",
    "    print('{}: {} with parameters; {}\\n'.\\\n",
    "          format(best_clf_txt[i],\n",
    "                 methods[best_idx[i]],\n",
    "                 grid_options[i][best_idx[i]]))\n"
   ]
  },
  {
   "cell_type": "code",
   "execution_count": 76,
   "id": "70cb133d-be6c-490e-a76d-1c34feccedb1",
   "metadata": {},
   "outputs": [
    {
     "name": "stdout",
     "output_type": "stream",
     "text": [
      "0.8089887640449438\n",
      "0.9111111111111111\n"
     ]
    }
   ],
   "source": [
    "\n",
    "\n",
    "#Predicting for both sets of data\n",
    "for i in range(2):\n",
    "    #Getting the classifier\n",
    "    clf = classifiers[best_idx[i]]\n",
    "    \n",
    "    #Inputting the best grid option into the classifier\n",
    "    clf.set_params(**ast.literal_eval(grid_options[i][best_idx[i]]))\n",
    "    \n",
    "    #Fitting the classifier to the data\n",
    "    clf.fit(X_train[i],y_train[i])\n",
    "    print(clf.score(X_test[i], y_test[i]))\n",
    "    \n",
    "    #Predicting the kaggle data\n",
    "    kaggle_test_pred_comb[i]['Survived'] = clf.predict(kaggle_test_combined[i])"
   ]
  },
  {
   "cell_type": "code",
   "execution_count": 77,
   "id": "4fe97424-96ef-454f-a873-9f756acaa27d",
   "metadata": {},
   "outputs": [],
   "source": [
    "#Combining the dataframes\n",
    "kaggle_test_prediction_full = kaggle_test_pred_comb[0]\n",
    "kaggle_test_prediction_full = kaggle_test_prediction_full.append(\n",
    "    kaggle_test_pred_comb[1])"
   ]
  },
  {
   "cell_type": "code",
   "execution_count": 78,
   "id": "69ada04b-6b1b-40ee-8fbd-e0bfd0e536e5",
   "metadata": {},
   "outputs": [
    {
     "data": {
      "text/html": [
       "<div>\n",
       "<style scoped>\n",
       "    .dataframe tbody tr th:only-of-type {\n",
       "        vertical-align: middle;\n",
       "    }\n",
       "\n",
       "    .dataframe tbody tr th {\n",
       "        vertical-align: top;\n",
       "    }\n",
       "\n",
       "    .dataframe thead th {\n",
       "        text-align: right;\n",
       "    }\n",
       "</style>\n",
       "<table border=\"1\" class=\"dataframe\">\n",
       "  <thead>\n",
       "    <tr style=\"text-align: right;\">\n",
       "      <th></th>\n",
       "      <th>Survived</th>\n",
       "    </tr>\n",
       "    <tr>\n",
       "      <th>PassengerId</th>\n",
       "      <th></th>\n",
       "    </tr>\n",
       "  </thead>\n",
       "  <tbody>\n",
       "    <tr>\n",
       "      <th>892</th>\n",
       "      <td>0</td>\n",
       "    </tr>\n",
       "    <tr>\n",
       "      <th>893</th>\n",
       "      <td>0</td>\n",
       "    </tr>\n",
       "    <tr>\n",
       "      <th>894</th>\n",
       "      <td>0</td>\n",
       "    </tr>\n",
       "    <tr>\n",
       "      <th>895</th>\n",
       "      <td>0</td>\n",
       "    </tr>\n",
       "    <tr>\n",
       "      <th>896</th>\n",
       "      <td>0</td>\n",
       "    </tr>\n",
       "    <tr>\n",
       "      <th>...</th>\n",
       "      <td>...</td>\n",
       "    </tr>\n",
       "    <tr>\n",
       "      <th>1300</th>\n",
       "      <td>1</td>\n",
       "    </tr>\n",
       "    <tr>\n",
       "      <th>1302</th>\n",
       "      <td>1</td>\n",
       "    </tr>\n",
       "    <tr>\n",
       "      <th>1305</th>\n",
       "      <td>0</td>\n",
       "    </tr>\n",
       "    <tr>\n",
       "      <th>1308</th>\n",
       "      <td>0</td>\n",
       "    </tr>\n",
       "    <tr>\n",
       "      <th>1309</th>\n",
       "      <td>0</td>\n",
       "    </tr>\n",
       "  </tbody>\n",
       "</table>\n",
       "<p>418 rows × 1 columns</p>\n",
       "</div>"
      ],
      "text/plain": [
       "             Survived\n",
       "PassengerId          \n",
       "892                 0\n",
       "893                 0\n",
       "894                 0\n",
       "895                 0\n",
       "896                 0\n",
       "...               ...\n",
       "1300                1\n",
       "1302                1\n",
       "1305                0\n",
       "1308                0\n",
       "1309                0\n",
       "\n",
       "[418 rows x 1 columns]"
      ]
     },
     "execution_count": 78,
     "metadata": {},
     "output_type": "execute_result"
    }
   ],
   "source": [
    "kaggle_test_prediction_full"
   ]
  },
  {
   "cell_type": "code",
   "execution_count": 79,
   "id": "927c4e2f-2ab7-4494-bc39-f99d0dc180eb",
   "metadata": {},
   "outputs": [],
   "source": [
    "#Saving to a csv file\n",
    "kaggle_test_prediction_full.to_csv('kaggle_test_prediction.csv')"
   ]
  },
  {
   "cell_type": "markdown",
   "id": "8e901015-10af-4d2a-a6a7-94f85d70cc98",
   "metadata": {},
   "source": [
    "With more time, I would want to;\n",
    "- Check scaling on all of the parameters\n",
    "- Try effect of removing each of the parameters\n",
    "- Look more at the sparse parameters, and see if useful insights can be drawn from these (via imputation)\n",
    "- PCA, or similar data transformation\n",
    "- Clean up the script with more functions, and a clearer layout (And potentially multiple scripts calling different functions from different scripts)"
   ]
  }
 ],
 "metadata": {
  "kernelspec": {
   "display_name": "Python 3 (ipykernel)",
   "language": "python",
   "name": "python3"
  },
  "language_info": {
   "codemirror_mode": {
    "name": "ipython",
    "version": 3
   },
   "file_extension": ".py",
   "mimetype": "text/x-python",
   "name": "python",
   "nbconvert_exporter": "python",
   "pygments_lexer": "ipython3",
   "version": "3.9.7"
  }
 },
 "nbformat": 4,
 "nbformat_minor": 5
}
